{
 "cells": [
  {
   "cell_type": "code",
   "execution_count": 1,
   "metadata": {},
   "outputs": [],
   "source": [
    "import xarray as xr\n",
    "import pandas as pd\n",
    "import numpy as np\n",
    "from tqdm import tqdm\n",
    "import matplotlib.pyplot as plt\n"
   ]
  },
  {
   "cell_type": "markdown",
   "metadata": {},
   "source": [
    "## Runoff historic stats"
   ]
  },
  {
   "cell_type": "code",
   "execution_count": 3,
   "metadata": {},
   "outputs": [],
   "source": [
    "MAR = xr.open_dataset(r'\\MAR.nc', engine='netcdf4')\n",
    "summed_sector_discharge = MAR.sum(dim='station')"
   ]
  },
  {
   "cell_type": "code",
   "execution_count": null,
   "metadata": {},
   "outputs": [],
   "source": [
    "summed_sector_discharge_df = pd.DataFrame(data=summed_sector_discharge['discharge'].values, index=MAR.time, columns=['summed_discharge'])\n",
    "mask = (summed_sector_discharge_df.index.month == 8) & (summed_sector_discharge_df.index.day >= 28) | (summed_sector_discharge_df.index.month == 9) & (summed_sector_discharge_df.index.day <= 30) # late season\n",
    "\n",
    "late_season = summed_sector_discharge_df[mask]\n",
    "print(late_season.max())\n",
    "\n",
    "top_10_largest = late_season.nlargest(10, 'summed_discharge')\n",
    "print(top_10_largest)"
   ]
  },
  {
   "cell_type": "code",
   "execution_count": 2,
   "metadata": {},
   "outputs": [],
   "source": [
    "MAR = xr.open_dataset(r'\\MAR.nc', engine='netcdf4')\n",
    "\n",
    "land_term_stations = [66855,66850,66847,66834,66819,66783,66768,66755,66595,66592,66591,66576,66574,66571,66564,66561,66554,66549,66541,66533,66532,66530,66518,66517,66480,66474,66472,66463,66451,66446,66445,66444,66416,66414,66407,66388,66356,66353,66350,66346,66344] # land-terminating outlets downstream of flux gates\n",
    "station_sel = MAR.sel(station=land_term_stations)\n",
    "summed_sector_discharge = station_sel.sum(dim='station')"
   ]
  },
  {
   "cell_type": "code",
   "execution_count": null,
   "metadata": {},
   "outputs": [],
   "source": [
    "summed_sector_discharge_df = pd.DataFrame(data=summed_sector_discharge['discharge'].values, index=MAR.time, columns=['summed_discharge'])\n",
    "mask = (summed_sector_discharge_df.index.month == 8) & (summed_sector_discharge_df.index.day >= 15) | (summed_sector_discharge_df.index.month == 9) & (summed_sector_discharge_df.index.day <= 30) # late season\n",
    "\n",
    "late_season = summed_sector_discharge_df[mask]\n",
    "print(late_season.max())\n",
    "\n",
    "top_10_largest = late_season.nlargest(10, 'summed_discharge')\n",
    "print(top_10_largest)"
   ]
  },
  {
   "cell_type": "code",
   "execution_count": null,
   "metadata": {},
   "outputs": [],
   "source": [
    "melt_variation = late_season.diff()\n",
    "print(melt_variation)\n",
    "\n",
    "top_10_largest_diff = melt_variation.nlargest(10, 'summed_discharge')\n",
    "print(top_10_largest_diff)"
   ]
  },
  {
   "cell_type": "code",
   "execution_count": null,
   "metadata": {},
   "outputs": [],
   "source": [
    "melt_variation_all = summed_sector_discharge_df.diff()\n",
    "print(melt_variation_all)\n",
    "\n",
    "top_10_largest_diff2 = melt_variation_all.nlargest(10, 'summed_discharge')\n",
    "print(top_10_largest_diff2)"
   ]
  },
  {
   "cell_type": "code",
   "execution_count": null,
   "metadata": {},
   "outputs": [],
   "source": [
    "summed_sector_discharge.loc[(summed_sector_discharge['time'].dt.day==25) & (summed_sector_discharge['time'].dt.month==[8,9])]\n"
   ]
  },
  {
   "cell_type": "markdown",
   "metadata": {},
   "source": [
    "# Land-terminating Sector"
   ]
  },
  {
   "cell_type": "code",
   "execution_count": 7,
   "metadata": {},
   "outputs": [],
   "source": [
    "MAR = xr.open_dataset(r'\\data\\RUNOFF\\MAR.nc', engine='netcdf4')\n",
    "MAR_22 =  MAR.sel(time=slice('2022-01','2022-12')) # 2022\n",
    "\n",
    "\n",
    "land_term_stations = [66855,66850,66847,66834,66819,66783,66768,66755,66595,66592,66591,66576,66574,66571,66564,66561,66554,66549,66541,66533,66532,66530,66518,66517,66480,66474,66472,66463,66451,66446,66445,66444,66416,66414,66407,66388,66356,66353,66350,66346,66344] # land-terminating outlets downstream of flux gates\n",
    "station_sel = MAR_22.sel(station=land_term_stations)\n",
    "summed_sector_discharge = station_sel.sum(dim='station')"
   ]
  },
  {
   "cell_type": "code",
   "execution_count": null,
   "metadata": {},
   "outputs": [],
   "source": [
    "sector_discharge = pd.DataFrame(data=summed_sector_discharge['discharge'].values, index=MAR_22.time, columns=['summed_discharge'])\n",
    "sector_discharge = sector_discharge[(sector_discharge.index >= '2022-04-01') & (sector_discharge.index <= '2022-11-30')] # subsetting to melt-season\n",
    "\n",
    "### removing timestamps with high melt in Septemer ################\n",
    "sector_discharge_nomelt = sector_discharge[(sector_discharge.index < '2022-09-02') | (sector_discharge.index > '2022-09-05')] # first melt event\n",
    "sector_discharge_nomelt = sector_discharge_nomelt[(sector_discharge_nomelt.index < '2022-09-09') | (sector_discharge_nomelt.index > '2022-09-11')] #2nd melt event.....\n",
    "sector_discharge_nomelt = sector_discharge_nomelt[(sector_discharge_nomelt.index < '2022-09-13') | (sector_discharge_nomelt.index > '2022-09-20')]\n",
    "sector_discharge_nomelt = sector_discharge_nomelt[(sector_discharge_nomelt.index < '2022-09-23') | (sector_discharge_nomelt.index > '2022-09-24')]\n",
    "sector_discharge_nomelt = sector_discharge_nomelt[(sector_discharge_nomelt.index < '2022-09-26') | (sector_discharge_nomelt.index > '2022-09-27')]\n",
    "sector_discharge_nomelt = sector_discharge_nomelt.resample('D').interpolate() # linearly interpolating over removed melt events\n",
    "\n",
    "#### plots with and without melt events ############################\n",
    "sector_discharge.plot() # plot with melt events\n",
    "sector_discharge_nomelt.plot()  # plot with melt events removed\n",
    "\n",
    "######### calculating total discharge ################################\n",
    "total_discharge = sector_discharge.sum() * 86400 # convert to m3\n",
    "total_discharge = ((total_discharge * 1000)/1000000000000) * (1000/917) # convert to Gt of ice\n",
    "\n",
    "total_discharge_nomelt = sector_discharge_nomelt.sum() * 86400 # convert to m3\n",
    "total_discharge_nomelt = ((total_discharge_nomelt * 1000)/1000000000000) * (1000/917) # convert to Gt of ice\n",
    "\n",
    "percent_increase = ((total_discharge - total_discharge_nomelt)/ total_discharge_nomelt) * 100   # percentage increase in discharge\n",
    "\n",
    "print('Annual discharge: %.2f Gt \\nAnnual discharge (nomelt): %.2f Gt \\nPercentage increase: %.2f %%' % (total_discharge, total_discharge_nomelt, percent_increase))\n"
   ]
  },
  {
   "cell_type": "markdown",
   "metadata": {},
   "source": [
    "Timesteps to remove: 2nd, 3rd, 4th, 5th    17th, 18th     23rd, 24th     26th, 27th"
   ]
  },
  {
   "cell_type": "markdown",
   "metadata": {},
   "source": [
    "# Marine-terminating sector"
   ]
  },
  {
   "cell_type": "code",
   "execution_count": 24,
   "metadata": {},
   "outputs": [],
   "source": [
    "MAR = xr.open_dataset(r'\\data\\RUNOFF\\MAR.nc', engine='netcdf4')\n",
    "MAR_22 =  MAR.sel(time=slice('2022-01','2022-12')) # 2022\n",
    "\n",
    "mtg_stations = [73658,73656,73652,73648,73622,73601,73562]\n",
    "station_sel = MAR_22.sel(station=mtg_stations)\n",
    "summed_sector_discharge_mtg = station_sel.sum(dim='station')"
   ]
  },
  {
   "cell_type": "code",
   "execution_count": null,
   "metadata": {},
   "outputs": [],
   "source": [
    "sector_discharge = pd.DataFrame(data=summed_sector_discharge_mtg['discharge'].values, index=MAR_22.time, columns=['summed_discharge'])\n",
    "sector_discharge = sector_discharge[(sector_discharge.index >= '2022-04-01') & (sector_discharge.index <= '2022-11-30')] # subsetting to melt-season\n",
    "\n",
    "### removing timestamps with high melt in Septemer ################\n",
    "sector_discharge_nomelt = sector_discharge[(sector_discharge.index < '2022-09-02') | (sector_discharge.index > '2022-09-05')] # first melt event\n",
    "sector_discharge_nomelt = sector_discharge_nomelt[(sector_discharge_nomelt.index < '2022-09-09') | (sector_discharge_nomelt.index > '2022-09-11')] #2nd melt event.....\n",
    "sector_discharge_nomelt = sector_discharge_nomelt[(sector_discharge_nomelt.index < '2022-09-13') | (sector_discharge_nomelt.index > '2022-09-20')]\n",
    "sector_discharge_nomelt = sector_discharge_nomelt[(sector_discharge_nomelt.index < '2022-09-23') | (sector_discharge_nomelt.index > '2022-09-24')]\n",
    "sector_discharge_nomelt = sector_discharge_nomelt[(sector_discharge_nomelt.index < '2022-09-26') | (sector_discharge_nomelt.index > '2022-09-27')]\n",
    "sector_discharge_nomelt = sector_discharge_nomelt.resample('D').interpolate() # linearly interpolating over removed melt events\n",
    "\n",
    "#### plots with and without melt events ############################\n",
    "sector_discharge.plot() # plot with melt events\n",
    "sector_discharge_nomelt.plot()  # plot with melt events removed\n",
    "\n",
    "######### calculating total discharge ################################\n",
    "total_discharge = sector_discharge.sum() * 86400 # convert to m3\n",
    "total_discharge = ((total_discharge * 1000)/1000000000000) * (1000/917) # convert to Gt of ice\n",
    "\n",
    "total_discharge_nomelt = sector_discharge_nomelt.sum() * 86400 # convert to m3\n",
    "total_discharge_nomelt = ((total_discharge_nomelt * 1000)/1000000000000) * (1000/917) # convert to Gt of ice\n",
    "\n",
    "percent_increase = ((total_discharge - total_discharge_nomelt)/ total_discharge_nomelt) * 100   # percentage increase in discharge\n",
    "\n",
    "print('Annual discharge: %.2f Gt \\nAnnual discharge (nomelt): %.2f Gt \\nPercentage increase: %.2f %%' % (total_discharge, total_discharge_nomelt, percent_increase))"
   ]
  }
 ],
 "metadata": {
  "kernelspec": {
   "display_name": "JIF_main",
   "language": "python",
   "name": "python3"
  },
  "language_info": {
   "codemirror_mode": {
    "name": "ipython",
    "version": 3
   },
   "file_extension": ".py",
   "mimetype": "text/x-python",
   "name": "python",
   "nbconvert_exporter": "python",
   "pygments_lexer": "ipython3",
   "version": "3.10.13"
  },
  "orig_nbformat": 4
 },
 "nbformat": 4,
 "nbformat_minor": 2
}
