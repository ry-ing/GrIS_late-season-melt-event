{
 "cells": [
  {
   "cell_type": "code",
   "execution_count": 39,
   "metadata": {},
   "outputs": [],
   "source": [
    "import pandas as pd\n",
    "import matplotlib.pyplot as plt\n",
    "import statsmodels.api as sm # to build a LOWESS model\n",
    "lowess = sm.nonparametric.lowess\n",
    "import math\n",
    "import sys\n",
    "import os\n",
    "\n",
    "import numpy as np\n",
    "import matplotlib.dates as mdates\n",
    "from matplotlib import gridspec\n",
    "import matplotlib as mpl\n",
    "import matplotlib\n",
    "import matplotlib.font_manager as fm\n",
    "#---------------MATPLOTLIB USER OPTIONS---------\n",
    "tick_fontsize = 10\n",
    "label_fontsize = 12\n",
    "title_fontsize = 16\n",
    "mpl.rcParams['font.family'] = 'Roboto'\n",
    "plt.rcParams['axes.linewidth'] = 1.0\n",
    "plt.rc('xtick', labelsize=tick_fontsize)\n",
    "plt.rc('ytick', labelsize=tick_fontsize)\n",
    "plt.rc('axes', labelsize=label_fontsize)\n",
    "plt.rc('axes', titlesize=title_fontsize)\n",
    "plt.rc('legend', fontsize=label_fontsize)    # legend fontsize\n",
    "plt.rc('figure', titlesize=title_fontsize)  # fontsize of the figure title\n",
    "plt.rcParams['axes.facecolor'] = 'None'\n",
    "\n",
    "width = 6.88 \n",
    "height = width/1.618 "
   ]
  },
  {
   "cell_type": "code",
   "execution_count": 40,
   "metadata": {},
   "outputs": [],
   "source": [
    "mankoff_mtg = pd.read_csv('C:/Users/s1834371/Documents/mankoff_mtg_gates.csv')"
   ]
  },
  {
   "cell_type": "code",
   "execution_count": 41,
   "metadata": {},
   "outputs": [
    {
     "name": "stderr",
     "output_type": "stream",
     "text": [
      "C:\\Users\\s1834371\\AppData\\Local\\Temp\\ipykernel_15856\\3924408868.py:35: FutureWarning: Series.__getitem__ treating keys as positions is deprecated. In a future version, integer keys will always be treated as labels (consistent with DataFrame behavior). To access a value by position, use `ser.iloc[pos]`\n",
      "  sum_u_error[t] = math.sqrt(uerr_KNS[t]**2+ uerr_AS[t]**2 )\n",
      "C:\\Users\\s1834371\\AppData\\Local\\Temp\\ipykernel_15856\\3924408868.py:35: FutureWarning: Series.__setitem__ treating keys as positions is deprecated. In a future version, integer keys will always be treated as labels (consistent with DataFrame behavior). To set a value by position, use `ser.iloc[pos] = value`\n",
      "  sum_u_error[t] = math.sqrt(uerr_KNS[t]**2+ uerr_AS[t]**2 )\n",
      "C:\\Users\\s1834371\\AppData\\Local\\Temp\\ipykernel_15856\\3924408868.py:36: FutureWarning: Series.__getitem__ treating keys as positions is deprecated. In a future version, integer keys will always be treated as labels (consistent with DataFrame behavior). To access a value by position, use `ser.iloc[pos]`\n",
      "  sum_l_error[t] = math.sqrt(lerr_KNS[t]**2 + lerr_AS[t]**2 )\n",
      "C:\\Users\\s1834371\\AppData\\Local\\Temp\\ipykernel_15856\\3924408868.py:36: FutureWarning: Series.__setitem__ treating keys as positions is deprecated. In a future version, integer keys will always be treated as labels (consistent with DataFrame behavior). To set a value by position, use `ser.iloc[pos] = value`\n",
      "  sum_l_error[t] = math.sqrt(lerr_KNS[t]**2 + lerr_AS[t]**2 )\n"
     ]
    }
   ],
   "source": [
    "def load_discharge_data(gate, skip):\n",
    "    discharge_data = pd.read_csv(data_dir + 'discharge/%s_gate_ice_discharge_v3.csv' % gate, index_col=1)\n",
    "    discharge_data.index = pd.DatetimeIndex(discharge_data.index, dayfirst=True) # convert to datetime object\n",
    "    # print(discharge_data.index)\n",
    "\n",
    "    discharge_data = discharge_data.drop(discharge_data.columns[0],axis=1) # dropping first index column\n",
    "\n",
    "    u_err = discharge_data['u_error'].resample('D').interpolate() # resampling to daily resolution (upper error)\n",
    "    l_err = discharge_data['l_error'].resample('D').interpolate() # lower error\n",
    "\n",
    "    discharge_data = discharge_data.drop(discharge_data.columns[1],axis=1)\n",
    "    discharge_data = discharge_data.drop(discharge_data.columns[1],axis=1)\n",
    "\n",
    "    discharge_data_resamp = discharge_data.resample('D').interpolate() # resample to daily resolution\n",
    "    #discharge_data_resamp.to_csv('%s_discharge_daily.csv' % gate)\n",
    "\n",
    "    return discharge_data_resamp, u_err, l_err\n",
    "\n",
    "### Load in discharge data ############\n",
    "data_dir = 'C:/Users/s1834371/Documents/GrIS_late-season-melt-event/data/'\n",
    "\n",
    "skip = 0 \n",
    "discharge_KNS, uerr_KNS, lerr_KNS = load_discharge_data('KNS', skip)\n",
    "discharge_AS, uerr_AS, lerr_AS = load_discharge_data('AS', skip)\n",
    "\n",
    "# SUM UP all gates in sector\n",
    "sum_sector_discharge = discharge_KNS + discharge_AS\n",
    "#print(sum_sector_discharge)\n",
    "#sys.exit()\n",
    "#sum_sector_discharge.to_csv('summed_discharge.csv')\n",
    "\n",
    "sum_u_error = uerr_KNS.copy() # copy pd dataframe strucutre\n",
    "sum_l_error = lerr_KNS.copy() # copy pd dataframe strucutre\n",
    "for t in range(len(uerr_KNS.index)):\n",
    "    sum_u_error[t] = math.sqrt(uerr_KNS[t]**2+ uerr_AS[t]**2 )\n",
    "    sum_l_error[t] = math.sqrt(lerr_KNS[t]**2 + lerr_AS[t]**2 )"
   ]
  },
  {
   "cell_type": "code",
   "execution_count": 42,
   "metadata": {},
   "outputs": [],
   "source": [
    "mankoff_mtg['discharge'] = mankoff_mtg['270'] + mankoff_mtg['275']"
   ]
  },
  {
   "cell_type": "code",
   "execution_count": 43,
   "metadata": {},
   "outputs": [],
   "source": [
    "mankoff_mtg.index = pd.DatetimeIndex(mankoff_mtg['Date'], dayfirst=True)\n",
    "mankoff_mtg = mankoff_mtg.drop(mankoff_mtg.columns[0],axis=1)\n",
    "mankoff_mtg = mankoff_mtg.resample('D').interpolate()\n"
   ]
  },
  {
   "cell_type": "code",
   "execution_count": 47,
   "metadata": {},
   "outputs": [
    {
     "name": "stdout",
     "output_type": "stream",
     "text": [
      "NO MELT EVENTS 5.035081192768951\n",
      "WITH MELT EVENTS 5.044625274486759\n",
      "PERCENT INCREASE 0.1895516944496189\n"
     ]
    }
   ],
   "source": [
    "\n",
    "time_mask_mankoff = (mankoff_mtg.index > '2022-05-01') & (mankoff_mtg.index <= '2023-04-30')\n",
    "mankoff_mtg = mankoff_mtg.loc[time_mask_mankoff]\n",
    "\n",
    "nomelt_mankoff = mankoff_mtg[(mankoff_mtg.index < '2022-08-20') | (mankoff_mtg.index > '2022-09-15')] # removing high discharge rates from melt event\n",
    "nomelt_mankoff = nomelt_mankoff.resample('D').interpolate()\n",
    "\n",
    "nomelt_mankoff_total = nomelt_mankoff['discharge']/365\n",
    "nomelt_mankoff_total = nomelt_mankoff_total.sum()\n",
    "print('NO MELT EVENTS', nomelt_mankoff_total)\n",
    "\n",
    "with_melt_total = mankoff_mtg['discharge']/365\n",
    "with_melt_total = with_melt_total.sum()\n",
    "print('WITH MELT EVENTS', with_melt_total)\n",
    "\n",
    "percent_increase = (with_melt_total - nomelt_mankoff_total)/nomelt_mankoff_total * 100\n",
    "print('PERCENT INCREASE', percent_increase)\n",
    "\n",
    "# discharge22 = sum_sector_discharge[(sum_sector_discharge.index > '2022-05-01') & (sum_sector_discharge.index <= '2023-04-30')]\n",
    "# sum_u_error_22 = sum_u_error[(sum_u_error.index > '2022-05-01') & (sum_u_error.index <= '2023-04-30')]\n",
    "# sum_l_error_22 = sum_l_error[(sum_l_error.index > '2022-05-01') & (sum_l_error.index <= '2023-04-30')]\n",
    "\n",
    "\n",
    "# Ing_Gates_KNS = Ing_Gates_KNS.resample('M').mean()\n",
    "#Ing_Gates_AS = Ing_Gates_AS.resample('M').mean()\n",
    "#Ing_Gates_KNS = Ing_Gates_KNS.resample('M').mean()\n",
    "\n",
    "# Ing_Gates_KNS['u_error'] = Ing_Gates_KNS['u_error'].resample('M').sum()\n",
    "# Ing_Gates_KNS['l_error'] = Ing_Gates_KNS['l_error'].resample('M').sum()\n",
    "\n",
    "# Ing_Gates_AS['discharge'] = Ing_Gates_AS['discharge'].resample('M').sum()\n"
   ]
  },
  {
   "cell_type": "code",
   "execution_count": 45,
   "metadata": {},
   "outputs": [
    {
     "data": {
      "text/html": [
       "<div>\n",
       "<style scoped>\n",
       "    .dataframe tbody tr th:only-of-type {\n",
       "        vertical-align: middle;\n",
       "    }\n",
       "\n",
       "    .dataframe tbody tr th {\n",
       "        vertical-align: top;\n",
       "    }\n",
       "\n",
       "    .dataframe thead th {\n",
       "        text-align: right;\n",
       "    }\n",
       "</style>\n",
       "<table border=\"1\" class=\"dataframe\">\n",
       "  <thead>\n",
       "    <tr style=\"text-align: right;\">\n",
       "      <th></th>\n",
       "      <th>270</th>\n",
       "      <th>275</th>\n",
       "      <th>discharge</th>\n",
       "    </tr>\n",
       "    <tr>\n",
       "      <th>Date</th>\n",
       "      <th></th>\n",
       "      <th></th>\n",
       "      <th></th>\n",
       "    </tr>\n",
       "  </thead>\n",
       "  <tbody>\n",
       "    <tr>\n",
       "      <th>2022-05-02</th>\n",
       "      <td>0.600365</td>\n",
       "      <td>4.661731</td>\n",
       "      <td>5.262096</td>\n",
       "    </tr>\n",
       "    <tr>\n",
       "      <th>2022-05-03</th>\n",
       "      <td>0.600424</td>\n",
       "      <td>4.669691</td>\n",
       "      <td>5.270115</td>\n",
       "    </tr>\n",
       "    <tr>\n",
       "      <th>2022-05-04</th>\n",
       "      <td>0.600482</td>\n",
       "      <td>4.677651</td>\n",
       "      <td>5.278134</td>\n",
       "    </tr>\n",
       "    <tr>\n",
       "      <th>2022-05-05</th>\n",
       "      <td>0.600541</td>\n",
       "      <td>4.685611</td>\n",
       "      <td>5.286153</td>\n",
       "    </tr>\n",
       "    <tr>\n",
       "      <th>2022-05-06</th>\n",
       "      <td>0.600600</td>\n",
       "      <td>4.693572</td>\n",
       "      <td>5.294171</td>\n",
       "    </tr>\n",
       "    <tr>\n",
       "      <th>...</th>\n",
       "      <td>...</td>\n",
       "      <td>...</td>\n",
       "      <td>...</td>\n",
       "    </tr>\n",
       "    <tr>\n",
       "      <th>2023-04-26</th>\n",
       "      <td>0.529105</td>\n",
       "      <td>4.422622</td>\n",
       "      <td>4.951727</td>\n",
       "    </tr>\n",
       "    <tr>\n",
       "      <th>2023-04-27</th>\n",
       "      <td>0.531710</td>\n",
       "      <td>4.434570</td>\n",
       "      <td>4.966280</td>\n",
       "    </tr>\n",
       "    <tr>\n",
       "      <th>2023-04-28</th>\n",
       "      <td>0.534316</td>\n",
       "      <td>4.446518</td>\n",
       "      <td>4.980833</td>\n",
       "    </tr>\n",
       "    <tr>\n",
       "      <th>2023-04-29</th>\n",
       "      <td>0.536921</td>\n",
       "      <td>4.458465</td>\n",
       "      <td>4.995387</td>\n",
       "    </tr>\n",
       "    <tr>\n",
       "      <th>2023-04-30</th>\n",
       "      <td>0.539527</td>\n",
       "      <td>4.470413</td>\n",
       "      <td>5.009940</td>\n",
       "    </tr>\n",
       "  </tbody>\n",
       "</table>\n",
       "<p>364 rows × 3 columns</p>\n",
       "</div>"
      ],
      "text/plain": [
       "                 270       275  discharge\n",
       "Date                                     \n",
       "2022-05-02  0.600365  4.661731   5.262096\n",
       "2022-05-03  0.600424  4.669691   5.270115\n",
       "2022-05-04  0.600482  4.677651   5.278134\n",
       "2022-05-05  0.600541  4.685611   5.286153\n",
       "2022-05-06  0.600600  4.693572   5.294171\n",
       "...              ...       ...        ...\n",
       "2023-04-26  0.529105  4.422622   4.951727\n",
       "2023-04-27  0.531710  4.434570   4.966280\n",
       "2023-04-28  0.534316  4.446518   4.980833\n",
       "2023-04-29  0.536921  4.458465   4.995387\n",
       "2023-04-30  0.539527  4.470413   5.009940\n",
       "\n",
       "[364 rows x 3 columns]"
      ]
     },
     "execution_count": 45,
     "metadata": {},
     "output_type": "execute_result"
    }
   ],
   "source": [
    "nomelt_mankoff"
   ]
  },
  {
   "cell_type": "code",
   "execution_count": 46,
   "metadata": {},
   "outputs": [
    {
     "data": {
      "image/png": "[encoded data removed]",
      "text/plain": [
       "<Figure size 688x425.216 with 1 Axes>"
      ]
     },
     "metadata": {},
     "output_type": "display_data"
    }
   ],
   "source": [
    "plt.figure(figsize=(width,height))\n",
    "sum_mankoff_discharge = mankoff_mtg['275'] + mankoff_mtg['270']\n",
    "\n",
    "plt.plot(mankoff_mtg.index, sum_mankoff_discharge,color='k',label='Mankoff et al. (2020b)')\n",
    "#plt.plot(mankoff_mtg.index,mankoff_mtg['270'],color='k',label='Mankoff et al. (2016)')\n",
    "\n",
    "\n",
    "# comb_error = [sum_l_error_22.values, sum_u_error_22.values]\n",
    "\n",
    "# plt.errorbar(discharge22.index, discharge22['discharge'], yerr=comb_error, zorder=1, ls='none', elinewidth=1.26, ecolor='dodgerblue', alpha=0.2, label='2022/23 error')\n",
    "# plt.plot(discharge22.index, discharge22['discharge'] ,color='r',label='This study')\n",
    "\n",
    "plt.ylim(0, 11)\n",
    "\n",
    "#plt.plot(Ing_Gates_AS.index,Ing_Gates_AS['discharge'],color='b',label='AS')\n",
    "plt.legend()\n",
    "plt.ylabel('Ice Discharge (Gt yr$^{-1}$)')\n",
    "plt.xlabel('Date')\n",
    "plt.show()"
   ]
  }
 ],
 "metadata": {
  "kernelspec": {
   "display_name": "GrIS-september_figures",
   "language": "python",
   "name": "python3"
  },
  "language_info": {
   "codemirror_mode": {
    "name": "ipython",
    "version": 3
   },
   "file_extension": ".py",
   "mimetype": "text/x-python",
   "name": "python",
   "nbconvert_exporter": "python",
   "pygments_lexer": "ipython3",
   "version": "3.12.1"
  }
 },
 "nbformat": 4,
 "nbformat_minor": 2
}
