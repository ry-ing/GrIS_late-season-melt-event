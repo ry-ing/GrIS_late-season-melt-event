{
 "cells": [
  {
   "cell_type": "code",
   "execution_count": 32,
   "metadata": {},
   "outputs": [],
   "source": [
    "import pandas as pd\n",
    "import matplotlib.pyplot as plt\n",
    "import statsmodels.api as sm # to build a LOWESS model\n",
    "lowess = sm.nonparametric.lowess\n",
    "import math\n",
    "import sys\n",
    "import os\n",
    "\n",
    "import numpy as np\n",
    "import matplotlib.dates as mdates\n",
    "from matplotlib import gridspec\n",
    "import matplotlib as mpl\n",
    "import matplotlib\n",
    "import matplotlib.font_manager as fm\n",
    "#---------------MATPLOTLIB USER OPTIONS---------\n",
    "tick_fontsize = 10\n",
    "label_fontsize = 12\n",
    "title_fontsize = 16\n",
    "mpl.rcParams['font.family'] = 'Roboto'\n",
    "plt.rcParams['axes.linewidth'] = 1.0\n",
    "plt.rc('xtick', labelsize=tick_fontsize)\n",
    "plt.rc('ytick', labelsize=tick_fontsize)\n",
    "plt.rc('axes', labelsize=label_fontsize)\n",
    "plt.rc('axes', titlesize=title_fontsize)\n",
    "plt.rc('legend', fontsize=label_fontsize)    # legend fontsize\n",
    "plt.rc('figure', titlesize=title_fontsize)  # fontsize of the figure title\n",
    "plt.rcParams['axes.facecolor'] = 'None'\n",
    "\n",
    "width = 6.88 \n",
    "height = width/1.618 -1 "
   ]
  },
  {
   "cell_type": "code",
   "execution_count": 33,
   "metadata": {},
   "outputs": [],
   "source": [
    "def load_discharge_data(gate, skip):\n",
    "    discharge_data = pd.read_csv(data_dir + 'discharge/%s_gate_ice_discharge_v2.csv' % gate, index_col=1)\n",
    "    discharge_data.index = pd.DatetimeIndex(discharge_data.index, dayfirst=True) # convert to datetime object\n",
    "    # print(discharge_data.index)\n",
    "\n",
    "    discharge_data = discharge_data.drop(discharge_data.columns[0],axis=1) # dropping first index column\n",
    "    # discharge_data = discharge_data.drop(discharge_data.columns[1],axis=1)\n",
    "    # discharge_data = discharge_data.drop(discharge_data.columns[1],axis=1)\n",
    "\n",
    "    discharge_data_resamp = discharge_data.resample('D').interpolate() # resample to daily resolution\n",
    "\n",
    "    return discharge_data_resamp\n",
    "\n",
    "### Load in discharge data ############\n",
    "data_dir = \n",
    "\n",
    "skip = 0 \n",
    "discharge_IS = load_discharge_data('IS', skip)\n",
    "discharge_RUSSELL = load_discharge_data('RUSSELL', skip)\n",
    "discharge_NORTH_NUNATAK = load_discharge_data('NORTH_NUNATAK', skip)\n",
    "discharge_SOUTH_NUNATAK = load_discharge_data('SOUTH_NUNATAK', skip)\n",
    "discharge_UNNAMED_SOUTH = load_discharge_data('UNNAMED_SOUTH', skip)"
   ]
  },
  {
   "cell_type": "code",
   "execution_count": null,
   "metadata": {},
   "outputs": [],
   "source": [
    "plt.plot(discharge_IS.index, discharge_IS['width_averaged_thickness'], label='ROI1', color='r')\n",
    "plt.plot(discharge_IS.index, discharge_IS['width_averaged_thickness_bedmachine'], linestyle='--', color='r')\n",
    "\n",
    "plt.plot(discharge_RUSSELL.index, discharge_RUSSELL['width_averaged_thickness'], label='ROI2', color='b')\n",
    "plt.plot(discharge_RUSSELL.index, discharge_RUSSELL['width_averaged_thickness_bedmachine'], linestyle='--', color='b')\n",
    "\n",
    "plt.plot(discharge_NORTH_NUNATAK.index, discharge_NORTH_NUNATAK['width_averaged_thickness'], label='ROI3', color='g')\n",
    "plt.plot(discharge_NORTH_NUNATAK.index, discharge_NORTH_NUNATAK['width_averaged_thickness_bedmachine'], linestyle='--', color='g')\n",
    "\n",
    "plt.plot(discharge_SOUTH_NUNATAK.index, discharge_SOUTH_NUNATAK['width_averaged_thickness'], label='ROI4', color='orange') \n",
    "plt.plot(discharge_SOUTH_NUNATAK.index, discharge_SOUTH_NUNATAK['width_averaged_thickness_bedmachine'], linestyle='--', color='orange')\n",
    "\n",
    "plt.plot(discharge_UNNAMED_SOUTH.index, discharge_UNNAMED_SOUTH['width_averaged_thickness'], label='ROI5', color='purple')\n",
    "plt.plot(discharge_UNNAMED_SOUTH.index, discharge_UNNAMED_SOUTH['width_averaged_thickness_bedmachine'], linestyle='--', color='purple')\n",
    "\n",
    "plt.legend(frameon=True, framealpha=0.8, facecolor='white')\n",
    "plt.ylabel('Gate-averaged Ice Thickness (m)')\n",
    "plt.xlabel('Year')\n",
    "# plt.plot(discharge_RUSSELL.index, discharge_RUSSELL['width_averaged_thickness'], label='RUSSELL')\n",
    "# plt.plot(discharge_NORTH_NUNATAK.index, discharge_NORTH_NUNATAK['width_averaged_thickness'], label='NORTH_NUNATAK')\n",
    "# plt.plot(discharge_SOUTH_NUNATAK.index, discharge_SOUTH_NUNATAK['width_averaged_thickness'], label='SOUTH_NUNATAK')\n",
    "# plt.plot(discharge_UNNAMED_SOUTH.index, discharge_UNNAMED_SOUTH['width_averaged_thickness'], label='UNNAMED_SOUTH')"
   ]
  }
 ],
 "metadata": {
  "kernelspec": {
   "display_name": "GrIS-september_figures",
   "language": "python",
   "name": "python3"
  },
  "language_info": {
   "codemirror_mode": {
    "name": "ipython",
    "version": 3
   },
   "file_extension": ".py",
   "mimetype": "text/x-python",
   "name": "python",
   "nbconvert_exporter": "python",
   "pygments_lexer": "ipython3",
   "version": "3.12.1"
  }
 },
 "nbformat": 4,
 "nbformat_minor": 2
}
